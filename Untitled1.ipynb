{
 "cells": [
  {
   "cell_type": "code",
   "execution_count": 22,
   "metadata": {},
   "outputs": [
    {
     "name": "stderr",
     "output_type": "stream",
     "text": [
      " * Running on http://localhost:5001/ (Press CTRL+C to quit)\n",
      "[2019-04-12 20:10:51,576] ERROR in app: Exception on / [GET]\n",
      "Traceback (most recent call last):\n",
      "  File \"/anaconda3/lib/python3.6/site-packages/flask/app.py\", line 2292, in wsgi_app\n",
      "    response = self.full_dispatch_request()\n",
      "  File \"/anaconda3/lib/python3.6/site-packages/flask/app.py\", line 1815, in full_dispatch_request\n",
      "    rv = self.handle_user_exception(e)\n",
      "  File \"/anaconda3/lib/python3.6/site-packages/flask/app.py\", line 1718, in handle_user_exception\n",
      "    reraise(exc_type, exc_value, tb)\n",
      "  File \"/anaconda3/lib/python3.6/site-packages/flask/_compat.py\", line 35, in reraise\n",
      "    raise value\n",
      "  File \"/anaconda3/lib/python3.6/site-packages/flask/app.py\", line 1813, in full_dispatch_request\n",
      "    rv = self.dispatch_request()\n",
      "  File \"/anaconda3/lib/python3.6/site-packages/flask/app.py\", line 1799, in dispatch_request\n",
      "    return self.view_functions[rule.endpoint](**req.view_args)\n",
      "  File \"<ipython-input-22-6822ff4a13ea>\", line 8, in form\n",
      "    return render_template('form.html')\n",
      "  File \"/anaconda3/lib/python3.6/site-packages/flask/templating.py\", line 135, in render_template\n",
      "    context, ctx.app)\n",
      "  File \"/anaconda3/lib/python3.6/site-packages/flask/templating.py\", line 117, in _render\n",
      "    rv = template.render(context)\n",
      "  File \"/anaconda3/lib/python3.6/site-packages/jinja2/asyncsupport.py\", line 76, in render\n",
      "    return original_render(self, *args, **kwargs)\n",
      "  File \"/anaconda3/lib/python3.6/site-packages/jinja2/environment.py\", line 1008, in render\n",
      "    return self.environment.handle_exception(exc_info, True)\n",
      "  File \"/anaconda3/lib/python3.6/site-packages/jinja2/environment.py\", line 780, in handle_exception\n",
      "    reraise(exc_type, exc_value, tb)\n",
      "  File \"/anaconda3/lib/python3.6/site-packages/jinja2/_compat.py\", line 37, in reraise\n",
      "    raise value.with_traceback(tb)\n",
      "  File \"/Users/utkarsh/mechine learning/iiit delhi/templates/form.html\", line 7, in top-level template code\n",
      "    <form action=\"{{ url_for('project 2.ipynb') }}\" method=”POST”>\n",
      "  File \"/anaconda3/lib/python3.6/site-packages/flask/helpers.py\", line 356, in url_for\n",
      "    return appctx.app.handle_url_build_error(error, endpoint, values)\n",
      "  File \"/anaconda3/lib/python3.6/site-packages/flask/app.py\", line 2061, in handle_url_build_error\n",
      "    reraise(exc_type, exc_value, tb)\n",
      "  File \"/anaconda3/lib/python3.6/site-packages/flask/_compat.py\", line 35, in reraise\n",
      "    raise value\n",
      "  File \"/anaconda3/lib/python3.6/site-packages/flask/helpers.py\", line 345, in url_for\n",
      "    force_external=external)\n",
      "  File \"/anaconda3/lib/python3.6/site-packages/werkzeug/routing.py\", line 1776, in build\n",
      "    raise BuildError(endpoint, values, method, self)\n",
      "werkzeug.routing.BuildError: Could not build url for endpoint 'project 2.ipynb'. Did you mean 'static' instead?\n",
      "127.0.0.1 - - [12/Apr/2019 20:10:51] \"GET / HTTP/1.1\" 500 -\n"
     ]
    }
   ],
   "source": [
    "from flask import Flask, render_template, request\n",
    "from werkzeug.serving import run_simple\n",
    "\n",
    "app = Flask(__name__)\n",
    "\n",
    "@app.route('/')\n",
    "def form():\n",
    "   return render_template('form.html')\n",
    "if __name__ == '__main__':\n",
    "   run_simple('localhost',5001, app)"
   ]
  },
  {
   "cell_type": "code",
   "execution_count": null,
   "metadata": {},
   "outputs": [],
   "source": []
  }
 ],
 "metadata": {
  "kernelspec": {
   "display_name": "Python 3",
   "language": "python",
   "name": "python3"
  },
  "language_info": {
   "codemirror_mode": {
    "name": "ipython",
    "version": 3
   },
   "file_extension": ".py",
   "mimetype": "text/x-python",
   "name": "python",
   "nbconvert_exporter": "python",
   "pygments_lexer": "ipython3",
   "version": "3.6.5"
  }
 },
 "nbformat": 4,
 "nbformat_minor": 2
}
