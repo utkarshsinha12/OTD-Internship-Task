{
 "cells": [
  {
   "cell_type": "code",
   "execution_count": 4,
   "metadata": {},
   "outputs": [
    {
     "name": "stdout",
     "output_type": "stream",
     "text": [
      "None None\n"
     ]
    }
   ],
   "source": [
    "import cgi\n",
    "form = cgi.FieldStorage()\n",
    "x =  form.getvalue('Starting_station')\n",
    "y =  form.getvalue('Last_station')\n",
    "print(x,y)"
   ]
  },
  {
   "cell_type": "code",
   "execution_count": 5,
   "metadata": {},
   "outputs": [],
   "source": [
    "def xyz(x,y):\n",
    "    import pandas as pd\n",
    "    routes=pd.read_csv(\"routes.csv\")\n",
    "    import numpy as np\n",
    "    routes=routes[['route_long_name','route_id']].values\n",
    "    stops=pd.read_csv(\"stops.csv\")\n",
    "    start_point=stops[stops.stop_name==x]\n",
    "    end_point=stops[stops.stop_name==y]\n",
    "    stops=stops[['stop_id','stop_name']].values\n",
    "    bus_start_id=start_point.stop_id.values\n",
    "    bus_stop_id=end_point['stop_id'].values\n",
    "    bus_stop=pd.read_csv(\"stop_times.csv\")\n",
    "    bus_stop=bus_stop[['trip_id','stop_id']].values\n",
    "    trips=pd.read_csv(\"trips.csv\")\n",
    "    trips=trips[['route_id','trip_id']].values\n",
    "    flag=0\n",
    "    x=0\n",
    "    y=0\n",
    "    cnt=0\n",
    "    z=555\n",
    "    k=0\n",
    "    for i in range(674909):\n",
    "        if(bus_stop[i][1]==bus_start_id[0]):\n",
    "            x=i\n",
    "            for j in range (i+1,674909):\n",
    "                if(bus_stop[j][1]==bus_stop_id[0]):\n",
    "                    y=j\n",
    "                    if(bus_stop[x][0]==bus_stop[y][0]):\n",
    "                        flag=1\n",
    "                        break\n",
    "            if(cnt>=25):\n",
    "                break\n",
    "            \n",
    "            if(flag==1):\n",
    "                if(z==trips[i%16562][0]):\n",
    "                    continue\n",
    "                else:\n",
    "                    z=trips[i%16562][0]\n",
    "                    print(\"---------------------\")\n",
    "                    print(\"for bus\",routes[trips[i%16562][0]][0])\n",
    "                    print(\"------------------------------------------\")\n",
    "                    cnt=cnt+1\n",
    "                    for w in range(x,y+1):\n",
    "                        for m in range(3465):\n",
    "                            if(stops[m][0]==bus_stop[w][1]):\n",
    "                                print(stops[m][1])\n",
    "                                break\n",
    "       \n",
    "    if(flag==0):\n",
    "        print(\"there is no direct route!\")"
   ]
  },
  {
   "cell_type": "code",
   "execution_count": 6,
   "metadata": {},
   "outputs": [
    {
     "ename": "IndexError",
     "evalue": "index 0 is out of bounds for axis 0 with size 0",
     "output_type": "error",
     "traceback": [
      "\u001b[0;31m---------------------------------------------------------------------------\u001b[0m",
      "\u001b[0;31mIndexError\u001b[0m                                Traceback (most recent call last)",
      "\u001b[0;32m<ipython-input-6-77bdf2f171eb>\u001b[0m in \u001b[0;36m<module>\u001b[0;34m()\u001b[0m\n\u001b[0;32m----> 1\u001b[0;31m \u001b[0mxyz\u001b[0m\u001b[0;34m(\u001b[0m\u001b[0mx\u001b[0m\u001b[0;34m,\u001b[0m\u001b[0my\u001b[0m\u001b[0;34m)\u001b[0m\u001b[0;34m\u001b[0m\u001b[0m\n\u001b[0m",
      "\u001b[0;32m<ipython-input-5-419150e46550>\u001b[0m in \u001b[0;36mxyz\u001b[0;34m(x, y)\u001b[0m\n\u001b[1;32m     21\u001b[0m     \u001b[0mk\u001b[0m\u001b[0;34m=\u001b[0m\u001b[0;36m0\u001b[0m\u001b[0;34m\u001b[0m\u001b[0m\n\u001b[1;32m     22\u001b[0m     \u001b[0;32mfor\u001b[0m \u001b[0mi\u001b[0m \u001b[0;32min\u001b[0m \u001b[0mrange\u001b[0m\u001b[0;34m(\u001b[0m\u001b[0;36m674909\u001b[0m\u001b[0;34m)\u001b[0m\u001b[0;34m:\u001b[0m\u001b[0;34m\u001b[0m\u001b[0m\n\u001b[0;32m---> 23\u001b[0;31m         \u001b[0;32mif\u001b[0m\u001b[0;34m(\u001b[0m\u001b[0mbus_stop\u001b[0m\u001b[0;34m[\u001b[0m\u001b[0mi\u001b[0m\u001b[0;34m]\u001b[0m\u001b[0;34m[\u001b[0m\u001b[0;36m1\u001b[0m\u001b[0;34m]\u001b[0m\u001b[0;34m==\u001b[0m\u001b[0mbus_start_id\u001b[0m\u001b[0;34m[\u001b[0m\u001b[0;36m0\u001b[0m\u001b[0;34m]\u001b[0m\u001b[0;34m)\u001b[0m\u001b[0;34m:\u001b[0m\u001b[0;34m\u001b[0m\u001b[0m\n\u001b[0m\u001b[1;32m     24\u001b[0m             \u001b[0mx\u001b[0m\u001b[0;34m=\u001b[0m\u001b[0mi\u001b[0m\u001b[0;34m\u001b[0m\u001b[0m\n\u001b[1;32m     25\u001b[0m             \u001b[0;32mfor\u001b[0m \u001b[0mj\u001b[0m \u001b[0;32min\u001b[0m \u001b[0mrange\u001b[0m \u001b[0;34m(\u001b[0m\u001b[0mi\u001b[0m\u001b[0;34m+\u001b[0m\u001b[0;36m1\u001b[0m\u001b[0;34m,\u001b[0m\u001b[0;36m674909\u001b[0m\u001b[0;34m)\u001b[0m\u001b[0;34m:\u001b[0m\u001b[0;34m\u001b[0m\u001b[0m\n",
      "\u001b[0;31mIndexError\u001b[0m: index 0 is out of bounds for axis 0 with size 0"
     ]
    }
   ],
   "source": [
    "xyz(x,y)"
   ]
  },
  {
   "cell_type": "code",
   "execution_count": null,
   "metadata": {},
   "outputs": [],
   "source": []
  }
 ],
 "metadata": {
  "kernelspec": {
   "display_name": "Python 3",
   "language": "python",
   "name": "python3"
  },
  "language_info": {
   "codemirror_mode": {
    "name": "ipython",
    "version": 3
   },
   "file_extension": ".py",
   "mimetype": "text/x-python",
   "name": "python",
   "nbconvert_exporter": "python",
   "pygments_lexer": "ipython3",
   "version": "3.6.5"
  }
 },
 "nbformat": 4,
 "nbformat_minor": 2
}
